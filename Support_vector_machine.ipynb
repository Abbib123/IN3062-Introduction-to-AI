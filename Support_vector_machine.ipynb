{
  "nbformat": 4,
  "nbformat_minor": 0,
  "metadata": {
    "colab": {
      "provenance": [],
      "machine_shape": "hm",
      "gpuType": "A100",
      "mount_file_id": "1bkMlsndPJ7RSc5T0UFRZ7dvgCtvBf55W",
      "authorship_tag": "ABX9TyOSPkkpH1A0yd280xNEJj9J",
      "include_colab_link": true
    },
    "kernelspec": {
      "name": "python3",
      "display_name": "Python 3"
    },
    "language_info": {
      "name": "python"
    },
    "accelerator": "GPU"
  },
  "cells": [
    {
      "cell_type": "markdown",
      "metadata": {
        "id": "view-in-github",
        "colab_type": "text"
      },
      "source": [
        "<a href=\"https://colab.research.google.com/github/Abbib123/IN3062-Introduction-to-AI/blob/Abbib-Akram-implementations/Support_vector_machine.ipynb\" target=\"_parent\"><img src=\"https://colab.research.google.com/assets/colab-badge.svg\" alt=\"Open In Colab\"/></a>"
      ]
    },
    {
      "cell_type": "code",
      "execution_count": 6,
      "metadata": {
        "id": "oDrbsz4OJ231",
        "colab": {
          "base_uri": "https://localhost:8080/",
          "height": 606
        },
        "outputId": "a6eb6a0a-31aa-42ab-e75a-359be07ba49d"
      },
      "outputs": [
        {
          "output_type": "stream",
          "name": "stdout",
          "text": [
            "  labels                    target     filename\n",
            "0      N  [1, 0, 0, 0, 0, 0, 0, 0]  0_right.jpg\n",
            "1      N  [1, 0, 0, 0, 0, 0, 0, 0]  1_right.jpg\n",
            "2      D  [0, 1, 0, 0, 0, 0, 0, 0]  2_right.jpg\n",
            "3      D  [0, 1, 0, 0, 0, 0, 0, 0]  4_right.jpg\n",
            "4      D  [0, 1, 0, 0, 0, 0, 0, 0]  5_right.jpg\n",
            "     labels                    target        filename\n",
            "256       N  [1, 0, 0, 0, 0, 0, 0, 0]   294_right.jpg\n",
            "1113      N  [1, 0, 0, 0, 0, 0, 0, 0]  1418_right.jpg\n",
            "4238      G  [0, 0, 1, 0, 0, 0, 0, 0]   1276_left.jpg\n",
            "1998      N  [1, 0, 0, 0, 0, 0, 0, 0]  2858_right.jpg\n",
            "4194      G  [0, 0, 1, 0, 0, 0, 0, 0]   1217_left.jpg\n"
          ]
        },
        {
          "output_type": "error",
          "ename": "KeyboardInterrupt",
          "evalue": "",
          "traceback": [
            "\u001b[0;31m---------------------------------------------------------------------------\u001b[0m",
            "\u001b[0;31mKeyboardInterrupt\u001b[0m                         Traceback (most recent call last)",
            "\u001b[0;32m<ipython-input-6-9ff8c753fc6c>\u001b[0m in \u001b[0;36m<cell line: 51>\u001b[0;34m()\u001b[0m\n\u001b[1;32m     49\u001b[0m \u001b[0;31m#fit the data\u001b[0m\u001b[0;34m\u001b[0m\u001b[0;34m\u001b[0m\u001b[0m\n\u001b[1;32m     50\u001b[0m \u001b[0mmulti_svm\u001b[0m \u001b[0;34m=\u001b[0m \u001b[0mSVC\u001b[0m\u001b[0;34m(\u001b[0m\u001b[0mgamma\u001b[0m\u001b[0;34m=\u001b[0m\u001b[0;34m'scale'\u001b[0m\u001b[0;34m,\u001b[0m \u001b[0mdecision_function_shape\u001b[0m\u001b[0;34m=\u001b[0m\u001b[0;34m'ovo'\u001b[0m\u001b[0;34m)\u001b[0m\u001b[0;34m\u001b[0m\u001b[0;34m\u001b[0m\u001b[0m\n\u001b[0;32m---> 51\u001b[0;31m \u001b[0mmulti_svm\u001b[0m\u001b[0;34m.\u001b[0m\u001b[0mfit\u001b[0m\u001b[0;34m(\u001b[0m\u001b[0mX_train\u001b[0m\u001b[0;34m,\u001b[0m\u001b[0my_train\u001b[0m\u001b[0;34m)\u001b[0m\u001b[0;34m\u001b[0m\u001b[0;34m\u001b[0m\u001b[0m\n\u001b[0m\u001b[1;32m     52\u001b[0m \u001b[0;34m\u001b[0m\u001b[0m\n\u001b[1;32m     53\u001b[0m \u001b[0;31m#print(X.shape[1])\u001b[0m\u001b[0;34m\u001b[0m\u001b[0;34m\u001b[0m\u001b[0m\n",
            "\u001b[0;32m/usr/local/lib/python3.10/dist-packages/sklearn/svm/_base.py\u001b[0m in \u001b[0;36mfit\u001b[0;34m(self, X, y, sample_weight)\u001b[0m\n\u001b[1;32m    250\u001b[0m \u001b[0;34m\u001b[0m\u001b[0m\n\u001b[1;32m    251\u001b[0m         \u001b[0mseed\u001b[0m \u001b[0;34m=\u001b[0m \u001b[0mrnd\u001b[0m\u001b[0;34m.\u001b[0m\u001b[0mrandint\u001b[0m\u001b[0;34m(\u001b[0m\u001b[0mnp\u001b[0m\u001b[0;34m.\u001b[0m\u001b[0miinfo\u001b[0m\u001b[0;34m(\u001b[0m\u001b[0;34m\"i\"\u001b[0m\u001b[0;34m)\u001b[0m\u001b[0;34m.\u001b[0m\u001b[0mmax\u001b[0m\u001b[0;34m)\u001b[0m\u001b[0;34m\u001b[0m\u001b[0;34m\u001b[0m\u001b[0m\n\u001b[0;32m--> 252\u001b[0;31m         \u001b[0mfit\u001b[0m\u001b[0;34m(\u001b[0m\u001b[0mX\u001b[0m\u001b[0;34m,\u001b[0m \u001b[0my\u001b[0m\u001b[0;34m,\u001b[0m \u001b[0msample_weight\u001b[0m\u001b[0;34m,\u001b[0m \u001b[0msolver_type\u001b[0m\u001b[0;34m,\u001b[0m \u001b[0mkernel\u001b[0m\u001b[0;34m,\u001b[0m \u001b[0mrandom_seed\u001b[0m\u001b[0;34m=\u001b[0m\u001b[0mseed\u001b[0m\u001b[0;34m)\u001b[0m\u001b[0;34m\u001b[0m\u001b[0;34m\u001b[0m\u001b[0m\n\u001b[0m\u001b[1;32m    253\u001b[0m         \u001b[0;31m# see comment on the other call to np.iinfo in this file\u001b[0m\u001b[0;34m\u001b[0m\u001b[0;34m\u001b[0m\u001b[0m\n\u001b[1;32m    254\u001b[0m \u001b[0;34m\u001b[0m\u001b[0m\n",
            "\u001b[0;32m/usr/local/lib/python3.10/dist-packages/sklearn/svm/_base.py\u001b[0m in \u001b[0;36m_dense_fit\u001b[0;34m(self, X, y, sample_weight, solver_type, kernel, random_seed)\u001b[0m\n\u001b[1;32m    329\u001b[0m             \u001b[0mself\u001b[0m\u001b[0;34m.\u001b[0m\u001b[0mfit_status_\u001b[0m\u001b[0;34m,\u001b[0m\u001b[0;34m\u001b[0m\u001b[0;34m\u001b[0m\u001b[0m\n\u001b[1;32m    330\u001b[0m             \u001b[0mself\u001b[0m\u001b[0;34m.\u001b[0m\u001b[0m_num_iter\u001b[0m\u001b[0;34m,\u001b[0m\u001b[0;34m\u001b[0m\u001b[0;34m\u001b[0m\u001b[0m\n\u001b[0;32m--> 331\u001b[0;31m         \u001b[0;34m)\u001b[0m \u001b[0;34m=\u001b[0m \u001b[0mlibsvm\u001b[0m\u001b[0;34m.\u001b[0m\u001b[0mfit\u001b[0m\u001b[0;34m(\u001b[0m\u001b[0;34m\u001b[0m\u001b[0;34m\u001b[0m\u001b[0m\n\u001b[0m\u001b[1;32m    332\u001b[0m             \u001b[0mX\u001b[0m\u001b[0;34m,\u001b[0m\u001b[0;34m\u001b[0m\u001b[0;34m\u001b[0m\u001b[0m\n\u001b[1;32m    333\u001b[0m             \u001b[0my\u001b[0m\u001b[0;34m,\u001b[0m\u001b[0;34m\u001b[0m\u001b[0;34m\u001b[0m\u001b[0m\n",
            "\u001b[0;31mKeyboardInterrupt\u001b[0m: "
          ]
        }
      ],
      "source": [
        "import numpy as np\n",
        "import pandas as pd\n",
        "from sklearn import datasets\n",
        "from sklearn.svm import SVC\n",
        "from sklearn.metrics import accuracy_score\n",
        "from sklearn.metrics import confusion_matrix\n",
        "import matplotlib.pyplot as plt\n",
        "from sklearn.model_selection import train_test_split\n",
        "\n",
        "\n",
        "path = \"/content/drive/MyDrive/Colab-Notebooks/IN3062-Introduction-to-AI\"\n",
        "\n",
        "filename_read = os.path.join(path, \"full_df.csv\")\n",
        "df = pd.read_csv(filename_read)\n",
        "# print(df[0:6392])\n",
        "\n",
        "\n",
        "df = df[['labels', 'target', 'filename']]\n",
        "df['labels'] = df['labels']\n",
        "\n",
        "def load_and_preprocess_images_with_pil(filenames, target_size=(256, 256)):\n",
        "    images = []\n",
        "    for filename in filenames:\n",
        "        full_path = '/content/drive/MyDrive/Colab-Notebooks/IN3062-Introduction-to-AI/images/' + filename\n",
        "        img = Image.open(full_path)\n",
        "        img = img.resize(target_size)\n",
        "        img_array = np.array(img)\n",
        "        img_array = img_array / 255.0\n",
        "        flattened_img = img_array.flatten()\n",
        "        images.append(flattened_img)\n",
        "    return np.array(images)\n",
        "\n",
        "print(df.head())\n",
        "\n",
        "df = df.reindex(np.random.permutation(df.index))\n",
        "\n",
        "print(df.head())\n",
        "\n",
        "X = load_and_preprocess_images_with_pil(df['filename'].tolist())\n",
        "\n",
        "# Creating the target array y\n",
        "y = df['labels'].tolist()\n",
        "\n",
        "\n",
        "X_train, X_test, y_train, y_test = train_test_split(X, y, test_size=0.25, random_state=42)\n",
        "\n",
        "\n",
        "#build a multiclass SVM 'ovo' for one-versus-one, and\n",
        "#fit the data\n",
        "multi_svm = SVC(gamma='scale', decision_function_shape='ovo')\n",
        "multi_svm.fit(X_train,y_train)\n",
        "\n",
        "#print(X.shape[1])\n",
        "\n",
        "y_pred = multi_svm.predict(X_test)\n",
        "\n",
        "#print(y_pred)\n",
        "#print(y_test)\n",
        "\n",
        "#put the results into a DataFrame and print side-by-side\n",
        "output = pd.DataFrame(data=np.c_[y_test,y_pred])\n",
        "print(output)\n",
        "\n",
        "#calculate accuracy score and print\n",
        "print('Accuracy: %.2f' % accuracy_score(y_test, y_pred))\n",
        "\n",
        "#find the confusion matrix, normalise and print\n",
        "cm = confusion_matrix(y_test, y_pred)\n",
        "np.set_printoptions(precision=2)\n",
        "cm_normalized = cm.astype('float') / cm.sum(axis=1)[:, np.newaxis]\n",
        "print('Normalized confusion matrix')\n",
        "print(cm_normalized)\n",
        "\n",
        "#confusion matric as a figure\n",
        "plt.figure()\n",
        "plot_confusion_matrix(cm_normalized, variety, title='Normalized confusion matrix')\n",
        "plt.show()\n",
        "\n",
        "\n",
        "\n",
        "\n",
        "\n",
        "\n",
        "\n",
        "\n",
        "\n",
        "#width = 128\n",
        "#height = 128\n",
        "#def preprocess_image(file_paths):\n",
        " #   images = []\n",
        "  #  for file_path in file_paths:\n",
        "   #     full_path = '/content/drive/MyDrive/Colab-Notebooks/IN3062-Introduction-to-AI/images/' + file_path\n",
        "        # Load and preprocess image\n",
        "     #   img = Image.open(full_path)\n",
        "       # img = img.resize((width, height))\n",
        "       # img_array = np.array(img) / 255.0\n",
        "        #images.append(img_array)\n",
        "    #return np.array(images)\n",
        "\n",
        "\n"
      ]
    },
    {
      "cell_type": "code",
      "source": [
        "#method to plot confusion matrices\n",
        "def plot_confusion_matrix(file name, image, title='Confusion matrix'):\n",
        "    plt.imshow(file name, interpolation='nearest')\n",
        "    plt.title(title)\n",
        "    plt.colorbar(fraction=0.08)\n",
        "    tick_marks = np.arange(len(file name))\n",
        "    plt.xticks(tick_marks, file name, rotation=45)\n",
        "    plt.yticks(tick_marks, file name)\n",
        "    plt.tight_layout()\n",
        "    plt.ylabel('True label')\n",
        "    plt.xlabel('Predicted label')"
      ],
      "metadata": {
        "id": "wQSYEdm5NN8I"
      },
      "execution_count": null,
      "outputs": []
    },
    {
      "cell_type": "code",
      "source": [
        "\n",
        "# Shows before an after drop of columns to show what we had and what we are using for the model\n",
        "# print(f\"before drop: {df.columns}\")\n",
        "df.drop('ID',axis=1, inplace=True)\n",
        "df.drop('N',axis=1, inplace=True)\n",
        "df.drop('D',axis=1, inplace=True)\n",
        "df.drop('G',axis=1, inplace=True)\n",
        "df.drop('C',axis=1, inplace=True)\n",
        "df.drop('A',axis=1, inplace=True)\n",
        "df.drop('H',axis=1, inplace=True)\n",
        "df.drop('M',axis=1, inplace=True)\n",
        "df.drop('O',axis=1, inplace=True)\n",
        "df.drop('Left-Fundus',axis=1, inplace=True)\n",
        "df.drop('Right-Fundus',axis=1, inplace=True)\n",
        "df.drop('Left-Diagnostic Keywords',axis=1, inplace=True)\n",
        "df.drop('Right-Diagnostic Keywords',axis=1, inplace=True)\n",
        "df.drop('filepath',axis=1, inplace=True)\n",
        "df.drop('target',axis=1, inplace=True)\n",
        "df.drop('Patient Age', axis=1,inplace=True)\n",
        "df.drop('Patient Sex', axis=1,inplace=True)\n",
        "# print(f\"after drop: {df.columns}\")\n",
        "# print(df[0:6392])\n",
        "# print(df.head())\n"
      ],
      "metadata": {
        "id": "nx_EVtcwPXrb"
      },
      "execution_count": null,
      "outputs": []
    },
    {
      "cell_type": "code",
      "source": [],
      "metadata": {
        "id": "qmMiNcLMnCHP"
      },
      "execution_count": null,
      "outputs": []
    }
  ]
}